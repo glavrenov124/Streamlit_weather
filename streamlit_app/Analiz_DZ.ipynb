{
  "cells": [
    {
      "cell_type": "markdown",
      "metadata": {
        "id": "bVbHQbDDjw9i"
      },
      "source": [
        "## ДЗ 1 (ОБЯЗАТЕЛЬНОЕ): Анализ температурных данных и мониторинг текущей температуры через OpenWeatherMap API\n",
        "\n",
        "**Описание задания:**  \n",
        "Вы аналитик в компании, занимающейся изучением климатических изменений и мониторингом температур в разных городах. Вам нужно провести анализ исторических данных о температуре для выявления сезонных закономерностей и аномалий. Также необходимо подключить API OpenWeatherMap для получения текущей температуры в выбранных городах и сравнить её с историческими данными.\n",
        "\n",
        "\n",
        "### Цели задания:\n",
        "1. Провести **анализ временных рядов**, включая:\n",
        "   - Вычисление скользящего среднего и стандартного отклонения для сглаживания температурных колебаний.\n",
        "   - Определение аномалий на основе отклонений температуры от $ \\text{скользящее среднее} \\pm 2\\sigma $.\n",
        "   - Построение долгосрочных трендов изменения температуры.\n",
        "   - Любые дополнительные исследования будут вам в плюс.\n",
        "\n",
        "2. Осуществить **мониторинг текущей температуры**:\n",
        "   - Получить текущую температуру через OpenWeatherMap API.\n",
        "   - Сравнить её с историческим нормальным диапазоном для текущего сезона.\n",
        "\n",
        "3. Разработать **интерактивное приложение**:\n",
        "   - Дать пользователю возможность выбрать город.\n",
        "   - Отобразить результаты анализа температур, включая временные ряды, сезонные профили и аномалии.\n",
        "   - Провести анализ текущей температуры в контексте исторических данных.\n",
        "\n",
        "\n",
        "### Описание данных\n",
        "Исторические данные о температуре содержатся в файле `temperature_data.csv`, включают:\n",
        "  - `city`: Название города.\n",
        "  - `timestamp`: Дата (с шагом в 1 день).\n",
        "  - `temperature`: Среднесуточная температура (в °C).\n",
        "  - `season`: Сезон года (зима, весна, лето, осень).\n",
        "\n",
        "Код для генерации файла вы найдете ниже.\n",
        "\n",
        "### Этапы выполнения\n",
        "\n",
        "1. **Анализ исторических данных**:\n",
        "   - Вычислить **скользящее среднее** температуры с окном в 30 дней для сглаживания краткосрочных колебаний.\n",
        "   - Рассчитать среднюю температуру и стандартное отклонение для каждого сезона в каждом городе.\n",
        "   - Выявить аномалии, где температура выходит за пределы $ \\text{среднее} \\pm 2\\sigma $.\n",
        "   - Попробуйте распараллелить проведение этого анализа. Сравните скорость выполнения анализа с распараллеливанием и без него.\n",
        "\n",
        "2. **Мониторинг текущей температуры**:\n",
        "   - Подключить OpenWeatherMap API для получения текущей температуры города. Для получения API Key (бесплатно) надо зарегистрироваться на сайте. Обратите внимание, что API Key может активироваться только через 2-3 часа, это нормально. Посему получите ключ заранее.\n",
        "   - Получить текущую температуру для выбранного города через OpenWeatherMap API.\n",
        "   - Определить, является ли текущая температура нормальной, исходя из исторических данных для текущего сезона.\n",
        "   - Данные на самом деле не совсем реальные (сюрпрайз). Поэтому на момент эксперимента погода в Берлине, Каире и Дубае была в рамках нормы, а в Пекине и Москве аномальная. Протестируйте свое решение для разных городов.\n",
        "   - Попробуйте для получения текущей температуры использовать синхронные и асинхронные методы. Что здесь лучше использовать?\n",
        "\n",
        "3. **Создание приложения на Streamlit**:\n",
        "   - Добавить интерфейс для загрузки файла с историческими данными.\n",
        "   - Добавить интерфейс для выбора города (из выпадающего списка).\n",
        "   - Добавить форму для ввода API-ключа OpenWeatherMap. Когда он не введен, данные для текущей погоды не показываются. Если ключ некорректный, выведите на экран ошибку (должно приходить `{\"cod\":401, \"message\": \"Invalid API key. Please see https://openweathermap.org/faq#error401 for more info.\"}`).\n",
        "   - Отобразить:\n",
        "     - Описательную статистику по историческим данным для города, можно добавить визуализации.\n",
        "     - Временной ряд температур с выделением аномалий (например, точками другого цвета).\n",
        "     - Сезонные профили с указанием среднего и стандартного отклонения.\n",
        "   - Вывести текущую температуру через API и указать, нормальна ли она для сезона.\n",
        "\n",
        "### Критерии оценивания\n",
        "\n",
        "- Корректное проведение анализа данных – 1 балл.\n",
        "- Исследование распараллеливания анализа – 1 балл.\n",
        "- Корректный поиск аномалий – 1 балл.\n",
        "- Подключение к API и корректность выполнения запроса – 1 балл.\n",
        "- Проведение эксперимента с синхронным и асинхронным способом запроса к API – 1 балл.\n",
        "- Создание интерфейса приложения streamlit в соответствии с описанием – 3 балла.\n",
        "- Корректное отображение графиков и статистик, а также сезонных профилей – 1 балл.\n",
        "- Корректный вывод текущей температуры в выбранном городе и проведение проверки на ее аномальность – 1 балл.\n",
        "- Любая дополнительная функциональность приветствуется и оценивается бонусными баллами (не более 2 в сумме) на усмотрение проверяющего.\n",
        "\n",
        "### Формат сдачи домашнего задания\n",
        "\n",
        "Решение нужно развернуть в Streamlit Cloud (бесплатно)\n",
        "\n",
        "*   Создаем новый репозиторий на GitHub.  \n",
        "*   Загружаем проект.\n",
        "*   Создаем аккаунт в [Streamlit Cloud](https://streamlit.io/cloud).\n",
        "*   Авторизуемся в Streamlit Cloud.\n",
        "*   Создаем новое приложение в Streamlit Cloud и подключаем GitHub-репозиторий.\n",
        "*   Deploy!\n",
        "\n",
        "Сдать в форму необходимо:\n",
        "1. Ссылку на развернутое в Streamlit Cloud приложение.\n",
        "2. Ссылку на код. Все выводы про, например, использование параллельности/асинхронности опишите в комментариях.\n",
        "\n",
        "Не забудьте удалить ключ API и иную чувствительную информацию.\n",
        "\n",
        "### Полезные ссылки\n",
        "*   [Оформление задачи Титаник на Streamlit](https://github.com/evgpat/streamlit_demo)\n",
        "*   [Документация Streamlit](https://docs.streamlit.io/)\n",
        "*   [Блог о Streamlit](https://blog.streamlit.io/)"
      ]
    },
    {
      "cell_type": "code",
      "execution_count": 3,
      "metadata": {
        "id": "SsrwTMhRj6dK"
      },
      "outputs": [],
      "source": [
        "import pandas as pd\n",
        "import numpy as np\n",
        "\n",
        "# Реальные средние температуры (примерные данные) для городов по сезонам\n",
        "seasonal_temperatures = {\n",
        "    \"New York\": {\"winter\": 0, \"spring\": 10, \"summer\": 25, \"autumn\": 15},\n",
        "    \"London\": {\"winter\": 5, \"spring\": 11, \"summer\": 18, \"autumn\": 12},\n",
        "    \"Paris\": {\"winter\": 4, \"spring\": 12, \"summer\": 20, \"autumn\": 13},\n",
        "    \"Tokyo\": {\"winter\": 6, \"spring\": 15, \"summer\": 27, \"autumn\": 18},\n",
        "    \"Moscow\": {\"winter\": -10, \"spring\": 5, \"summer\": 18, \"autumn\": 8},\n",
        "    \"Sydney\": {\"winter\": 12, \"spring\": 18, \"summer\": 25, \"autumn\": 20},\n",
        "    \"Berlin\": {\"winter\": 0, \"spring\": 10, \"summer\": 20, \"autumn\": 11},\n",
        "    \"Beijing\": {\"winter\": -2, \"spring\": 13, \"summer\": 27, \"autumn\": 16},\n",
        "    \"Rio de Janeiro\": {\"winter\": 20, \"spring\": 25, \"summer\": 30, \"autumn\": 25},\n",
        "    \"Dubai\": {\"winter\": 20, \"spring\": 30, \"summer\": 40, \"autumn\": 30},\n",
        "    \"Los Angeles\": {\"winter\": 15, \"spring\": 18, \"summer\": 25, \"autumn\": 20},\n",
        "    \"Singapore\": {\"winter\": 27, \"spring\": 28, \"summer\": 28, \"autumn\": 27},\n",
        "    \"Mumbai\": {\"winter\": 25, \"spring\": 30, \"summer\": 35, \"autumn\": 30},\n",
        "    \"Cairo\": {\"winter\": 15, \"spring\": 25, \"summer\": 35, \"autumn\": 25},\n",
        "    \"Mexico City\": {\"winter\": 12, \"spring\": 18, \"summer\": 20, \"autumn\": 15},\n",
        "}\n",
        "\n",
        "# Сопоставление месяцев с сезонами\n",
        "month_to_season = {12: \"winter\", 1: \"winter\", 2: \"winter\",\n",
        "                   3: \"spring\", 4: \"spring\", 5: \"spring\",\n",
        "                   6: \"summer\", 7: \"summer\", 8: \"summer\",\n",
        "                   9: \"autumn\", 10: \"autumn\", 11: \"autumn\"}\n",
        "\n",
        "# Генерация данных о температуре\n",
        "def generate_realistic_temperature_data(cities, num_years=10):\n",
        "    dates = pd.date_range(start=\"2010-01-01\", periods=365 * num_years, freq=\"D\")\n",
        "    data = []\n",
        "\n",
        "    for city in cities:\n",
        "        for date in dates:\n",
        "            season = month_to_season[date.month]\n",
        "            mean_temp = seasonal_temperatures[city][season]\n",
        "            # Добавляем случайное отклонение\n",
        "            temperature = np.random.normal(loc=mean_temp, scale=5)\n",
        "            data.append({\"city\": city, \"timestamp\": date, \"temperature\": temperature})\n",
        "\n",
        "    df = pd.DataFrame(data)\n",
        "    df['season'] = df['timestamp'].dt.month.map(lambda x: month_to_season[x])\n",
        "    return df\n",
        "\n",
        "# Генерация данных\n",
        "data = generate_realistic_temperature_data(list(seasonal_temperatures.keys()))\n",
        "data.to_csv('temperature_data.csv', index=False)\n"
      ]
    },
    {
      "cell_type": "code",
      "execution_count": 4,
      "metadata": {},
      "outputs": [],
      "source": [
        "import aiohttp\n",
        "import time \n",
        "from sklearn.linear_model import LinearRegression\n",
        "import requests\n",
        "import datetime\n",
        "import asyncio"
      ]
    },
    {
      "cell_type": "code",
      "execution_count": 5,
      "metadata": {},
      "outputs": [
        {
          "data": {
            "text/html": [
              "<div>\n",
              "<style scoped>\n",
              "    .dataframe tbody tr th:only-of-type {\n",
              "        vertical-align: middle;\n",
              "    }\n",
              "\n",
              "    .dataframe tbody tr th {\n",
              "        vertical-align: top;\n",
              "    }\n",
              "\n",
              "    .dataframe thead th {\n",
              "        text-align: right;\n",
              "    }\n",
              "</style>\n",
              "<table border=\"1\" class=\"dataframe\">\n",
              "  <thead>\n",
              "    <tr style=\"text-align: right;\">\n",
              "      <th></th>\n",
              "      <th>city</th>\n",
              "      <th>timestamp</th>\n",
              "      <th>temperature</th>\n",
              "      <th>season</th>\n",
              "    </tr>\n",
              "  </thead>\n",
              "  <tbody>\n",
              "    <tr>\n",
              "      <th>0</th>\n",
              "      <td>New York</td>\n",
              "      <td>2010-01-01</td>\n",
              "      <td>0.986924</td>\n",
              "      <td>winter</td>\n",
              "    </tr>\n",
              "    <tr>\n",
              "      <th>1</th>\n",
              "      <td>New York</td>\n",
              "      <td>2010-01-02</td>\n",
              "      <td>2.721420</td>\n",
              "      <td>winter</td>\n",
              "    </tr>\n",
              "    <tr>\n",
              "      <th>2</th>\n",
              "      <td>New York</td>\n",
              "      <td>2010-01-03</td>\n",
              "      <td>4.949889</td>\n",
              "      <td>winter</td>\n",
              "    </tr>\n",
              "    <tr>\n",
              "      <th>3</th>\n",
              "      <td>New York</td>\n",
              "      <td>2010-01-04</td>\n",
              "      <td>0.582659</td>\n",
              "      <td>winter</td>\n",
              "    </tr>\n",
              "    <tr>\n",
              "      <th>4</th>\n",
              "      <td>New York</td>\n",
              "      <td>2010-01-05</td>\n",
              "      <td>-1.441494</td>\n",
              "      <td>winter</td>\n",
              "    </tr>\n",
              "    <tr>\n",
              "      <th>...</th>\n",
              "      <td>...</td>\n",
              "      <td>...</td>\n",
              "      <td>...</td>\n",
              "      <td>...</td>\n",
              "    </tr>\n",
              "    <tr>\n",
              "      <th>54745</th>\n",
              "      <td>Mexico City</td>\n",
              "      <td>2019-12-25</td>\n",
              "      <td>16.486765</td>\n",
              "      <td>winter</td>\n",
              "    </tr>\n",
              "    <tr>\n",
              "      <th>54746</th>\n",
              "      <td>Mexico City</td>\n",
              "      <td>2019-12-26</td>\n",
              "      <td>11.225357</td>\n",
              "      <td>winter</td>\n",
              "    </tr>\n",
              "    <tr>\n",
              "      <th>54747</th>\n",
              "      <td>Mexico City</td>\n",
              "      <td>2019-12-27</td>\n",
              "      <td>-1.087347</td>\n",
              "      <td>winter</td>\n",
              "    </tr>\n",
              "    <tr>\n",
              "      <th>54748</th>\n",
              "      <td>Mexico City</td>\n",
              "      <td>2019-12-28</td>\n",
              "      <td>10.338773</td>\n",
              "      <td>winter</td>\n",
              "    </tr>\n",
              "    <tr>\n",
              "      <th>54749</th>\n",
              "      <td>Mexico City</td>\n",
              "      <td>2019-12-29</td>\n",
              "      <td>12.113638</td>\n",
              "      <td>winter</td>\n",
              "    </tr>\n",
              "  </tbody>\n",
              "</table>\n",
              "<p>54750 rows × 4 columns</p>\n",
              "</div>"
            ],
            "text/plain": [
              "              city   timestamp  temperature  season\n",
              "0         New York  2010-01-01     0.986924  winter\n",
              "1         New York  2010-01-02     2.721420  winter\n",
              "2         New York  2010-01-03     4.949889  winter\n",
              "3         New York  2010-01-04     0.582659  winter\n",
              "4         New York  2010-01-05    -1.441494  winter\n",
              "...            ...         ...          ...     ...\n",
              "54745  Mexico City  2019-12-25    16.486765  winter\n",
              "54746  Mexico City  2019-12-26    11.225357  winter\n",
              "54747  Mexico City  2019-12-27    -1.087347  winter\n",
              "54748  Mexico City  2019-12-28    10.338773  winter\n",
              "54749  Mexico City  2019-12-29    12.113638  winter\n",
              "\n",
              "[54750 rows x 4 columns]"
            ]
          },
          "execution_count": 5,
          "metadata": {},
          "output_type": "execute_result"
        }
      ],
      "source": [
        "df = pd.read_csv('temperature_data.csv')\n",
        "df"
      ]
    },
    {
      "cell_type": "code",
      "execution_count": 6,
      "metadata": {},
      "outputs": [
        {
          "data": {
            "text/plain": [
              "array(['New York', 'London', 'Paris', 'Tokyo', 'Moscow', 'Sydney',\n",
              "       'Berlin', 'Beijing', 'Rio de Janeiro', 'Dubai', 'Los Angeles',\n",
              "       'Singapore', 'Mumbai', 'Cairo', 'Mexico City'], dtype=object)"
            ]
          },
          "execution_count": 6,
          "metadata": {},
          "output_type": "execute_result"
        }
      ],
      "source": [
        "cities = df['city'].unique()\n",
        "cities"
      ]
    },
    {
      "cell_type": "code",
      "execution_count": 7,
      "metadata": {},
      "outputs": [],
      "source": [
        "from sklearn.linear_model import LinearRegression"
      ]
    },
    {
      "cell_type": "code",
      "execution_count": 8,
      "metadata": {},
      "outputs": [],
      "source": [
        "def analysis_temperature_of_city(df, city):\n",
        "    # Фильтр по городу\n",
        "    df_city = df.loc[df['city'] == city].copy()\n",
        "\n",
        "    #Основные показатели\n",
        "    avg_temp = df_city['temperature'].mean()\n",
        "    min_temp = df_city['temperature'].min()\n",
        "    max_temp = df_city['temperature'].max()\n",
        "\n",
        "\n",
        "    # Скользящее среднее и стандартное отклонение за 30 дней\n",
        "    df_city['roll_mean_30_days'] = df_city['temperature'].rolling(window=30).mean()\n",
        "    df_city['roll_std_30_days'] = df_city['temperature'].rolling(window=30).std()\n",
        "\n",
        "    # Поиск аномалий\n",
        "    df_city['anomaly'] = (\n",
        "        (df_city[\"temperature\"] < \n",
        "         (df_city[\"roll_mean_30_days\"] - 2 * df_city[\"roll_std_30_days\"])) |\n",
        "        (df_city[\"temperature\"] > \n",
        "         (df_city[\"roll_mean_30_days\"] + 2 * df_city[\"roll_std_30_days\"]))\n",
        "    )\n",
        "    \n",
        "    anomalies = df_city.loc[df_city['anomaly']]\n",
        "    # Профиль по сезонам\n",
        "    profile_of_season = df_city.groupby('season', as_index=False).agg(\n",
        "        temperature_mean=('temperature', 'mean'),\n",
        "        temperature_std=('temperature', 'std')\n",
        "    )\n",
        "    \n",
        "    \n",
        "    df_city['timestamp'] = pd.to_datetime(df_city['timestamp'])\n",
        "    df_city['days'] = (df_city['timestamp'] - df_city['timestamp'].min()).dt.days\n",
        "    X = df_city[['days']]\n",
        "    y = df_city['temperature']\n",
        "    model = LinearRegression()\n",
        "    model.fit(X, y)\n",
        "    trend_slope = model.coef_[0]\n",
        "\n",
        "\n",
        "\n",
        "    return {\n",
        "        \"city\": city,\n",
        "        \"df_city\": df_city,\n",
        "        \"avg_temp\": avg_temp,\n",
        "        \"min_temp\": min_temp,\n",
        "        \"max_temp\": max_temp,\n",
        "        \"anomalies\": anomalies,\n",
        "        \"profile_of_season\": profile_of_season,\n",
        "        \"trend_slope\": trend_slope\n",
        "\n",
        "    }\n",
        "\n",
        "\n",
        "\n",
        "\n"
      ]
    },
    {
      "cell_type": "markdown",
      "metadata": {},
      "source": [
        "***Попробуйте распараллелить проведение этого анализа. Сравните скорость выполнения анализа с распараллеливанием и без него***\n",
        "\n"
      ]
    },
    {
      "cell_type": "code",
      "execution_count": 9,
      "metadata": {},
      "outputs": [],
      "source": [
        "# Последовательно\n",
        "def analyze_cities_default(df, cities):\n",
        "    results = []\n",
        "    start_time = time.time()\n",
        "\n",
        "    for city in cities:\n",
        "        result = analysis_temperature_of_city(df, city)\n",
        "        results.append(result)\n",
        "\n",
        "    end_time = time.time() - start_time\n",
        "    return results, end_time\n",
        "\n",
        "\n"
      ]
    },
    {
      "cell_type": "code",
      "execution_count": 10,
      "metadata": {},
      "outputs": [],
      "source": [
        "# Параллельно\n",
        "from concurrent.futures import ThreadPoolExecutor\n",
        "\n",
        "def analyze_cities_threading(df, cities, n_threads=4):\n",
        "    start_time = time.time()\n",
        "    with ThreadPoolExecutor(max_workers=n_threads) as executor:\n",
        "        results = list(executor.map(lambda city: analysis_temperature_of_city(df, city), cities))\n",
        "    duration = time.time() - start_time\n",
        "    return results, duration"
      ]
    },
    {
      "cell_type": "code",
      "execution_count": 11,
      "metadata": {},
      "outputs": [
        {
          "name": "stdout",
          "output_type": "stream",
          "text": [
            "Время выполнения паралльного анализа 0.0882723331451416\n",
            "Время выполнения последовательного анализа 0.05658864974975586\n"
          ]
        }
      ],
      "source": [
        "results_1, duration_1  = analyze_cities_threading(df, cities, n_threads = 4)\n",
        "results_2, duration_2 = analyze_cities_default(df, cities)\n",
        "print(\"Время выполнения паралльного анализа\", duration_1)\n",
        "print(\"Время выполнения последовательного анализа\", duration_2)"
      ]
    },
    {
      "cell_type": "markdown",
      "metadata": {},
      "source": [
        "***Вывод: Последовательное выполнение анализа исторических данных оказался чуть быстре***"
      ]
    },
    {
      "cell_type": "markdown",
      "metadata": {},
      "source": [
        "***Мониториг текущей температуры***\n"
      ]
    },
    {
      "cell_type": "code",
      "execution_count": 12,
      "metadata": {},
      "outputs": [],
      "source": [
        "month_to_season_mapping = {\n",
        "    1: \"winter\",\n",
        "    2: \"winter\",\n",
        "    3: \"spring\",\n",
        "    4: \"spring\",\n",
        "    5: \"spring\",\n",
        "    6: \"summer\",\n",
        "    7: \"summer\",\n",
        "    8: \"summer\",\n",
        "    9: \"autumn\",\n",
        "    10: \"autumn\",\n",
        "    11: \"autumn\",\n",
        "    12: \"winter\",\n",
        "}"
      ]
    },
    {
      "cell_type": "code",
      "execution_count": 14,
      "metadata": {},
      "outputs": [],
      "source": [
        "def get_current_temp_of_city(API_KEY, city):\n",
        "    URL = f'https://api.openweathermap.org/data/2.5/weather?q={city}&appid={API_KEY}&units=metric'\n",
        "    response = requests.get(URL)\n",
        "    current_datetime = datetime.datetime.now()\n",
        "    month_of_temp = current_datetime.month\n",
        "\n",
        "    if response.status_code == 200:\n",
        "        data = response.json()\n",
        "        temperature = data['main']['temp']\n",
        "        return temperature, month_of_temp\n",
        "    else:\n",
        "        raise Exception(f\" Ошибка при получении данных с сайта OpenWeather: {response.status_code}, {response.text}\")\n",
        "    "
      ]
    },
    {
      "cell_type": "code",
      "execution_count": 15,
      "metadata": {},
      "outputs": [
        {
          "name": "stdout",
          "output_type": "stream",
          "text": [
            "Время выполнения через последовательное получение данных 3.4547441005706787\n"
          ]
        }
      ],
      "source": [
        "city = data['city'].unique()\n",
        "results = []\n",
        "start_time = time.time()\n",
        "for city in cities:\n",
        "    cur_temp, cur_month = get_current_temp_of_city(API_KEY, city)\n",
        "    results.append({\"city\": city, \"temperature\": cur_temp, \"month\": cur_month})\n",
        "                   \n",
        "end_time = time.time() - start_time\n",
        "\n",
        "print('Время выполнения через последовательное получение данных', end_time)"
      ]
    },
    {
      "cell_type": "code",
      "execution_count": 16,
      "metadata": {},
      "outputs": [
        {
          "data": {
            "text/plain": [
              "[{'city': 'New York', 'temperature': 4.38, 'month': 1},\n",
              " {'city': 'London', 'temperature': 2.45, 'month': 1},\n",
              " {'city': 'Paris', 'temperature': 4.2, 'month': 1},\n",
              " {'city': 'Tokyo', 'temperature': 4.98, 'month': 1},\n",
              " {'city': 'Moscow', 'temperature': -0.82, 'month': 1},\n",
              " {'city': 'Sydney', 'temperature': 21.29, 'month': 1},\n",
              " {'city': 'Berlin', 'temperature': 1.23, 'month': 1},\n",
              " {'city': 'Beijing', 'temperature': -4.06, 'month': 1},\n",
              " {'city': 'Rio de Janeiro', 'temperature': 25.43, 'month': 1},\n",
              " {'city': 'Dubai', 'temperature': 22.96, 'month': 1},\n",
              " {'city': 'Los Angeles', 'temperature': 14.55, 'month': 1},\n",
              " {'city': 'Singapore', 'temperature': 23.26, 'month': 1},\n",
              " {'city': 'Mumbai', 'temperature': 24.99, 'month': 1},\n",
              " {'city': 'Cairo', 'temperature': 19.42, 'month': 1},\n",
              " {'city': 'Mexico City', 'temperature': 16.64, 'month': 1}]"
            ]
          },
          "execution_count": 16,
          "metadata": {},
          "output_type": "execute_result"
        }
      ],
      "source": [
        "#Проверка результата\n",
        "results"
      ]
    },
    {
      "cell_type": "code",
      "execution_count": 17,
      "metadata": {},
      "outputs": [],
      "source": [
        "\n",
        "# Асинхронная функция получения температуры города\n",
        "async def get_current_temp_of_city_async(API_KEY, city, session):\n",
        "    URL = f'https://api.openweathermap.org/data/2.5/weather?q={city}&appid={API_KEY}&units=metric'\n",
        "    async with session.get(URL) as response:\n",
        "        if response.status == 200:\n",
        "            data = await response.json()\n",
        "            temperature = data['main']['temp']\n",
        "            current_datetime = datetime.datetime.now()\n",
        "            month_of_temp = current_datetime.month\n",
        "            return {\"city\": city, \"temperature\": temperature, \"month\": month_of_temp}\n",
        "        else:\n",
        "            return {\"city\": city, \"temperature\": None, \"month\": None, \"error\": await response.text()}\n",
        "\n",
        "# Асинхронная функция для обработки списка городов\n",
        "async def get_weather_for_cities_async(API_KEY, cities):\n",
        "    async with aiohttp.ClientSession(connector=aiohttp.TCPConnector(ssl=False)) as session:\n",
        "        tasks = [get_current_temp_of_city_async(API_KEY, city, session) for city in cities]\n",
        "        results = await asyncio.gather(*tasks, return_exceptions=True)\n",
        "        return results\n",
        "\n"
      ]
    },
    {
      "cell_type": "code",
      "execution_count": 18,
      "metadata": {},
      "outputs": [
        {
          "name": "stdout",
          "output_type": "stream",
          "text": [
            "Асинхронное выполнение заняло: 0.24 секунд\n"
          ]
        }
      ],
      "source": [
        "cities = data['city'].unique()\n",
        "\n",
        "# Замер времени выполнения\n",
        "start_time = time.time()\n",
        "\n",
        "results_async = await get_weather_for_cities_async(API_KEY, cities)\n",
        "\n",
        "duration = time.time() - start_time\n",
        "print(f\"Асинхронное выполнение заняло: {duration:.2f} секунд\")\n"
      ]
    },
    {
      "cell_type": "code",
      "execution_count": 19,
      "metadata": {},
      "outputs": [
        {
          "data": {
            "text/plain": [
              "[{'city': 'New York', 'temperature': 4.59, 'month': 1},\n",
              " {'city': 'London', 'temperature': 2.45, 'month': 1},\n",
              " {'city': 'Paris', 'temperature': 4.2, 'month': 1},\n",
              " {'city': 'Tokyo', 'temperature': 4.98, 'month': 1},\n",
              " {'city': 'Moscow', 'temperature': -0.82, 'month': 1},\n",
              " {'city': 'Sydney', 'temperature': 21.29, 'month': 1},\n",
              " {'city': 'Berlin', 'temperature': 1.23, 'month': 1},\n",
              " {'city': 'Beijing', 'temperature': -4.06, 'month': 1},\n",
              " {'city': 'Rio de Janeiro', 'temperature': 25.43, 'month': 1},\n",
              " {'city': 'Dubai', 'temperature': 22.96, 'month': 1},\n",
              " {'city': 'Los Angeles', 'temperature': 14.55, 'month': 1},\n",
              " {'city': 'Singapore', 'temperature': 23.26, 'month': 1},\n",
              " {'city': 'Mumbai', 'temperature': 24.99, 'month': 1},\n",
              " {'city': 'Cairo', 'temperature': 19.42, 'month': 1},\n",
              " {'city': 'Mexico City', 'temperature': 16.64, 'month': 1}]"
            ]
          },
          "execution_count": 19,
          "metadata": {},
          "output_type": "execute_result"
        }
      ],
      "source": [
        "#Результат асинхронного парсинга\n",
        "results_async"
      ]
    },
    {
      "cell_type": "markdown",
      "metadata": {},
      "source": [
        "***Вывод:Асинхронное обращение к апи осуществляется гораздо быстрее, чем последовательное***"
      ]
    },
    {
      "cell_type": "code",
      "execution_count": 20,
      "metadata": {},
      "outputs": [],
      "source": [
        "def temperature_is_normal_or_not(city, profile_of_season, temperature, month_of_temp):\n",
        "    current_season = month_to_season_mapping.get(month_of_temp)\n",
        "    profile_of_season = profile_of_season.query('season == @current_season')\n",
        "\n",
        "    \n",
        "    mean_temp = profile_of_season['temperature_mean'].iloc[0]\n",
        "    std_temp = profile_of_season['temperature_std'].iloc[0]\n",
        "\n",
        "    lower_bound = mean_temp - 2 * std_temp\n",
        "    upper_bound = mean_temp + 2 * std_temp \n",
        "\n",
        "    if lower_bound <= temperature <= upper_bound:\n",
        "        return f\"The temperature {temperature}°C in {city} is NORMAL for {current_season}.\"\n",
        "    else:\n",
        "        return f\"The temperature {temperature}°C in {city} is NOT NORMAL for {current_season}.\""
      ]
    },
    {
      "cell_type": "code",
      "execution_count": 21,
      "metadata": {},
      "outputs": [
        {
          "name": "stdout",
          "output_type": "stream",
          "text": [
            "The temperature 4.38°C in New York is NORMAL for winter.\n",
            "The temperature 2.45°C in London is NORMAL for winter.\n",
            "The temperature 4.2°C in Paris is NORMAL for winter.\n",
            "The temperature 4.98°C in Tokyo is NORMAL for winter.\n",
            "The temperature -0.82°C in Moscow is NORMAL for winter.\n",
            "The temperature 21.29°C in Sydney is NORMAL for winter.\n",
            "The temperature 1.23°C in Berlin is NORMAL for winter.\n",
            "The temperature -4.06°C in Beijing is NORMAL for winter.\n",
            "The temperature 25.43°C in Rio de Janeiro is NORMAL for winter.\n",
            "The temperature 22.96°C in Dubai is NORMAL for winter.\n",
            "The temperature 14.55°C in Los Angeles is NORMAL for winter.\n",
            "The temperature 23.26°C in Singapore is NORMAL for winter.\n",
            "The temperature 24.99°C in Mumbai is NORMAL for winter.\n",
            "The temperature 19.42°C in Cairo is NORMAL for winter.\n",
            "The temperature 16.64°C in Mexico City is NORMAL for winter.\n"
          ]
        }
      ],
      "source": [
        "# Посмотрим есть ли аномальная температура по городам\n",
        "city_results, _ = analyze_cities_default(df, cities)\n",
        "\n",
        "for result in city_results:\n",
        "    city = result['city']\n",
        "    profile_of_season = result['profile_of_season']\n",
        "    temperature, month_of_temp = get_current_temp_of_city(API_KEY, city)\n",
        "\n",
        "    # Проверка на нормальность температуры\n",
        "    is_temp_normal = temperature_is_normal_or_not(city, profile_of_season, temperature, month_of_temp)\n",
        "    print(is_temp_normal)"
      ]
    }
  ],
  "metadata": {
    "colab": {
      "provenance": []
    },
    "kernelspec": {
      "display_name": "Python 3",
      "name": "python3"
    },
    "language_info": {
      "codemirror_mode": {
        "name": "ipython",
        "version": 3
      },
      "file_extension": ".py",
      "mimetype": "text/x-python",
      "name": "python",
      "nbconvert_exporter": "python",
      "pygments_lexer": "ipython3",
      "version": "3.12.8"
    }
  },
  "nbformat": 4,
  "nbformat_minor": 0
}
